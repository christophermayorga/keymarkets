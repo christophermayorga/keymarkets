{
 "cells": [
  {
   "cell_type": "code",
   "execution_count": 1,
   "id": "40ae2a06-8ac5-4ceb-a262-32edd65b4e98",
   "metadata": {},
   "outputs": [
    {
     "ename": "ModuleNotFoundError",
     "evalue": "No module named 'Acquire'",
     "output_type": "error",
     "traceback": [
      "\u001b[0;31m---------------------------------------------------------------------------\u001b[0m",
      "\u001b[0;31mModuleNotFoundError\u001b[0m                       Traceback (most recent call last)",
      "\u001b[0;32m/var/folders/6p/7zr9w2bs3vlds5wnc4psq5400000gn/T/ipykernel_97420/1069472520.py\u001b[0m in \u001b[0;36m<module>\u001b[0;34m\u001b[0m\n\u001b[1;32m      4\u001b[0m \u001b[0;32mimport\u001b[0m \u001b[0mseaborn\u001b[0m \u001b[0;32mas\u001b[0m \u001b[0msns\u001b[0m\u001b[0;34m\u001b[0m\u001b[0;34m\u001b[0m\u001b[0m\n\u001b[1;32m      5\u001b[0m \u001b[0;34m\u001b[0m\u001b[0m\n\u001b[0;32m----> 6\u001b[0;31m \u001b[0;32mimport\u001b[0m \u001b[0mAcquire\u001b[0m \u001b[0;32mas\u001b[0m \u001b[0ma\u001b[0m\u001b[0;34m\u001b[0m\u001b[0;34m\u001b[0m\u001b[0m\n\u001b[0m",
      "\u001b[0;31mModuleNotFoundError\u001b[0m: No module named 'Acquire'"
     ]
    }
   ],
   "source": [
    "import pandas as pd\n",
    "import numpy as np\n",
    "import matplotlib.pyplot as plt\n",
    "import seaborn as sns\n",
    "\n",
    "import Acquire as a "
   ]
  },
  {
   "cell_type": "code",
   "execution_count": null,
   "id": "a65f49b3-7548-48f3-9c69-a90011783527",
   "metadata": {},
   "outputs": [],
   "source": [
    "# read in data dictionary\n",
    "dictionary = pd.read_csv('keymarkets/DOE_J40_Disadvantaged_Communities_2022.xlsx - Description.csv')\n",
    "dictionary"
   ]
  },
  {
   "cell_type": "code",
   "execution_count": null,
   "id": "976f61e1-a71b-43bd-9f9b-99caf60f2fe8",
   "metadata": {},
   "outputs": [],
   "source": [
    "# import csv and take a quick look at data\n",
    "df = pd.read_csv('keymarkets/DOE_J40_Disadvantaged_Communities_2022.xlsx - Data.csv')\n",
    "df.head()"
   ]
  },
  {
   "cell_type": "code",
   "execution_count": null,
   "id": "de8c3829-0868-4b44-a2bc-adaa01be186a",
   "metadata": {},
   "outputs": [],
   "source": [
    "# use df.info to see all column names\n",
    "df.info()"
   ]
  },
  {
   "cell_type": "code",
   "execution_count": null,
   "id": "c8058902-5f2a-4a2a-b990-b23cd8c8013d",
   "metadata": {},
   "outputs": [],
   "source": [
    "# take a look at numeric columns\n",
    "df.describe()"
   ]
  },
  {
   "cell_type": "code",
   "execution_count": null,
   "id": "cb436c1c-db41-46e3-8243-2bd074383865",
   "metadata": {},
   "outputs": [],
   "source": [
    "# Check the different classes in each variable\n",
    "df.nunique()"
   ]
  },
  {
   "cell_type": "code",
   "execution_count": null,
   "id": "628905ea-3175-4c77-8c1a-6a6b89787d96",
   "metadata": {},
   "outputs": [],
   "source": [
    "a.get_data_summary(df)"
   ]
  },
  {
   "cell_type": "code",
   "execution_count": null,
   "id": "1d264d91-cc92-46dc-b1ca-51f5c01ec321",
   "metadata": {},
   "outputs": [],
   "source": []
  }
 ],
 "metadata": {
  "kernelspec": {
   "display_name": "Python 3 (ipykernel)",
   "language": "python",
   "name": "python3"
  },
  "language_info": {
   "codemirror_mode": {
    "name": "ipython",
    "version": 3
   },
   "file_extension": ".py",
   "mimetype": "text/x-python",
   "name": "python",
   "nbconvert_exporter": "python",
   "pygments_lexer": "ipython3",
   "version": "3.8.5"
  }
 },
 "nbformat": 4,
 "nbformat_minor": 5
}
